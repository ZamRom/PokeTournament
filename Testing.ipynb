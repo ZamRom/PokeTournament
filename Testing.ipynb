{
 "cells": [
  {
   "cell_type": "code",
   "execution_count": 44,
   "metadata": {},
   "outputs": [],
   "source": [
    "import MySQLdb\n",
    "import random\n",
    "import math\n",
    "\n",
    "db = MySQLdb.connect(  # esto hace la conexion a la base de datos\n",
    "    host=\"localhost\",  # el puerto es 3308 porque es el puerto que\n",
    "    user=\"root\",  # le deje a mariaDB\n",
    "    password=\"deadzamxd\",\n",
    "    database=\"PokeSearch\",\n",
    "    port=3308,\n",
    ")\n",
    "c = db.cursor()"
   ]
  },
  {
   "cell_type": "code",
   "execution_count": 2,
   "metadata": {},
   "outputs": [],
   "source": [
    "TYPES = dict()\n",
    "c.execute(f\"select * from tipe;\")\n",
    "result = c.fetchall()\n",
    "for tipe in result:\n",
    "    TYPES[tipe[0]] = tipe[1]\n",
    "relations = dict()\n",
    "for t_id in TYPES:\n",
    "    if t_id not in relations:\n",
    "        relations[t_id] = dict()\n",
    "    c.execute(\n",
    "        f\"select relation,id_type_2 from relation_type where id_type_1={t_id} and relation like '%from' ;\"\n",
    "    )\n",
    "    temp = c.fetchall()\n",
    "    for rt in temp:\n",
    "        if rt[0] not in relations[t_id]:\n",
    "            relations[t_id][rt[0]] = []\n",
    "            relations[t_id][rt[0]].append(rt[1])\n",
    "        else:\n",
    "            relations[t_id][rt[0]].append(rt[1])\n"
   ]
  },
  {
   "cell_type": "code",
   "execution_count": 3,
   "metadata": {},
   "outputs": [],
   "source": [
    "def damages(T: list):\n",
    "    D = dict()\n",
    "    for t in T:\n",
    "        for rt in relations[t]:\n",
    "            for ti in relations[t][rt]:\n",
    "                if ti in D:\n",
    "                    if rt == \"double_damage_from\":\n",
    "                        D[ti] *= 2\n",
    "                    elif rt == \"half_damage_from\":\n",
    "                        D[ti] *= 0.5\n",
    "                    else:\n",
    "                        D[ti] *= 0\n",
    "                else:\n",
    "                    if rt == \"double_damage_from\":\n",
    "                        D[ti] = 2\n",
    "                    elif rt == \"half_damage_from\":\n",
    "                        D[ti] = 0.5\n",
    "                    else:\n",
    "                        D[ti] = 0\n",
    "    return D\n",
    "\n"
   ]
  },
  {
   "cell_type": "code",
   "execution_count": 4,
   "metadata": {},
   "outputs": [],
   "source": [
    "class Pokemon:\n",
    "    def __init__(self, name: str):\n",
    "        c.execute(\n",
    "            f\"select id,atk,satk,def,sdef,total_stat,name,hp,spe from pokemon where name='{name}';\"\n",
    "        )\n",
    "        data = c.fetchone()\n",
    "        self.id = data[0]\n",
    "        self.atk = data[1]\n",
    "        self.defe = data[3]\n",
    "        self.satk = data[2]\n",
    "        self.sdef = data[4]\n",
    "        self.total = data[5]\n",
    "        self.name = data[6]\n",
    "        self.hp = data[7]\n",
    "        self.spe = data[8]\n",
    "        c.execute(f\"select id_type from pok_typ where id_pokemon={data[0]};\")\n",
    "        T = c.fetchall()\n",
    "        self.types = []\n",
    "        for t in T:\n",
    "            self.types.append(t[0])\n",
    "        self.damages = damages(self.types)\n",
    "\n",
    "        self.moves = {\"physical\": dict(), \"status\": dict(), \"special\": dict()}\n",
    "        self.all = []\n",
    "        c.execute(\n",
    "            f\"select M.name,M.id_type,M.damage_class from move as M inner join pok_mov as PM on  PM.id_move=M.id and PM.id_pokemon={self.id};\"\n",
    "        )\n",
    "        M = c.fetchall()\n",
    "        for att in M:\n",
    "            if att[1] not in self.moves[att[2]]:\n",
    "                self.moves[att[2]][att[1]] = list()\n",
    "            self.moves[att[2]][att[1]].append(att[0])\n",
    "            self.all.append(att[0])\n",
    "\n",
    "    def print(self):\n",
    "        print(f\"\"\"id = {self.id}\\natk = {self.atk}\\ndefe = {self.defe}\\nsatk = {self.satk}\\nsdef = {self.sdef}\\ntotal = {self.total}\\nname = {self.name}\"\"\")\n",
    "        for d in self.damages:\n",
    "            print(TYPES[d],\":\",self.damages[d])\n",
    "        for M in self.moves:\n",
    "            print(M)\n",
    "            for m in self.moves[M]:\n",
    "                print(f\"{TYPES[m]}:{self.moves[M][m]}\")\n"
   ]
  },
  {
   "cell_type": "code",
   "execution_count": 119,
   "metadata": {},
   "outputs": [],
   "source": [
    "class PokemonT:\n",
    "    def __init__(self,poke: Pokemon,moves =[]):\n",
    "        self.hp = math.floor(110+((2*poke.hp)+31+(252/4)))\n",
    "        self.eva = 3\n",
    "        self.pre = 3\n",
    "        self.spe = poke.spe\n",
    "        self.atk = poke.atk\n",
    "        self.defe = poke.defe\n",
    "        self.satk = poke.satk\n",
    "        self.sdef = poke.sdef\n",
    "        self.name = poke.name\n",
    "        self.types = [TYPES[t] for t in poke.types]\n",
    "        self.damages = {TYPES[k]:v for (k,v) in poke.damages.items() }\n",
    "        for i in range(len(moves)):\n",
    "            if moves[i] not in poke.all:\n",
    "                moves[i] = random.choice(poke.all)\n",
    "        moves.extend([random.choice(poke.all) for _ in range(4-len(moves))])\n",
    "        self.moves = [moveT(m) for m in moves]\n",
    "        "
   ]
  },
  {
   "cell_type": "code",
   "execution_count": 112,
   "metadata": {},
   "outputs": [
    {
     "data": {
      "text/plain": [
       "((6,\n",
       "  'charizard',\n",
       "  905,\n",
       "  17,\n",
       "  78,\n",
       "  84,\n",
       "  78,\n",
       "  109,\n",
       "  85,\n",
       "  100,\n",
       "  534,\n",
       "  'https://raw.githubusercontent.com/PokeAPI/sprites/master/sprites/pokemon/6.png'),)"
      ]
     },
     "execution_count": 112,
     "metadata": {},
     "output_type": "execute_result"
    }
   ],
   "source": [
    "c.execute(f'select * from pokemon where name=\"charizard\";')\n",
    "data = c.fetchall()\n",
    "data"
   ]
  },
  {
   "cell_type": "code",
   "execution_count": 39,
   "metadata": {},
   "outputs": [],
   "source": [
    "class moveT:\n",
    "    def __init__(self,name:str):\n",
    "        c.execute(\n",
    "            f\"select * from move where name='{name}';\"\n",
    "        )\n",
    "        data = c.fetchone()\n",
    "        self.id = data[0]\n",
    "        self.name = data[1]\n",
    "        self.type = TYPES[data[2]]\n",
    "        self.clss = data[3]\n",
    "        self.power = data[4]\n",
    "        self.pp = data[5]\n",
    "        self.acc = data[6]\n",
    "        self.prio = data[7]\n",
    "        self.ail = data[8]\n",
    "        self.ail_c = data[9]\n",
    "        self.eff = data[10]\n",
    "\n",
    "    def print(self):\n",
    "        print(f\"id = {self.id}\\nname = {self.name}\\ntype = {self.type}\\nclss = {self.clss}\\npower = {self.power}\\npp = {self.pp}\\nacc = {self.acc}\\nprio = {self.prio}\\nail = {self.ail}\\nail_c = {self.ail_c}\\neffect = {self.eff}\")"
   ]
  },
  {
   "cell_type": "code",
   "execution_count": 15,
   "metadata": {},
   "outputs": [
    {
     "name": "stdout",
     "output_type": "stream",
     "text": [
      "id = 25\n",
      "name = mega-kick\n",
      "type = normal\n",
      "clss = physical\n",
      "power = 120\n",
      "pp = 5\n",
      "acc = 75\n",
      "prio = 0\n",
      "ail = none\n",
      "ail_c = None\n",
      "effect = Inflicts regular damage.\n"
     ]
    }
   ],
   "source": [
    "m = moveT(\"mega-kick\")\n",
    "m.print()"
   ]
  },
  {
   "cell_type": "code",
   "execution_count": 33,
   "metadata": {},
   "outputs": [
    {
     "name": "stdout",
     "output_type": "stream",
     "text": [
      "id = 25\n",
      "atk = 55\n",
      "defe = 40\n",
      "satk = 50\n",
      "sdef = 50\n",
      "total = 320\n",
      "name = pikachu\n",
      "ground : 2\n",
      "flying : 0.5\n",
      "steel : 0.5\n",
      "electric : 0.5\n",
      "physical\n",
      "normal:['mega-punch', 'pay-day', 'slam', 'mega-kick', 'headbutt', 'body-slam', 'take-down', 'double-edge', 'strength', 'quick-attack', 'rage', 'bide', 'skull-bash', 'return', 'frustration', 'facade', 'endeavor', 'secret-power', 'covet', 'natural-gift', 'feint']\n",
      "electric:['thunder-punch', 'spark', 'volt-tackle', 'wild-charge', 'nuzzle']\n",
      "fighting:['double-kick', 'submission', 'counter', 'seismic-toss', 'reversal', 'dynamic-punch', 'rock-smash', 'focus-punch', 'brick-break', 'upper-hand']\n",
      "ground:['dig']\n",
      "dark:['thief', 'knock-off', 'fling']\n",
      "rock:['rollout']\n",
      "steel:['iron-tail']\n",
      "fairy:['play-rough']\n",
      "grass:['trailblaze']\n",
      "status\n",
      "normal:['tail-whip', 'growl', 'mimic', 'double-team', 'defense-curl', 'flash', 'substitute', 'protect', 'endure', 'swagger', 'attract', 'sleep-talk', 'encore', 'helping-hand', 'captivate', 'play-nice', 'confide', 'laser-focus']\n",
      "electric:['thunder-wave', 'charge', 'magnet-rise', 'eerie-impulse', 'electric-terrain']\n",
      "poison:['toxic']\n",
      "psychic:['agility', 'light-screen', 'reflect', 'rest', 'calm-mind']\n",
      "ghost:['curse']\n",
      "fairy:['sweet-kiss', 'charm']\n",
      "fighting:['detect']\n",
      "water:['rain-dance']\n",
      "dark:['fake-tears', 'nasty-plot']\n",
      "special\n",
      "water:['surf']\n",
      "electric:['thunder-shock', 'thunderbolt', 'thunder', 'zap-cannon', 'shock-wave', 'discharge', 'charge-beam', 'electro-ball', 'volt-switch', 'electroweb', 'rising-voltage']\n",
      "normal:['swift', 'snore', 'hidden-power', 'uproar', 'round', 'echoed-voice', 'tera-blast']\n",
      "ground:['mud-slap']\n",
      "bug:['signal-beam']\n",
      "grass:['grass-knot']\n",
      "fairy:['disarming-voice', 'draining-kiss', 'alluring-voice']\n"
     ]
    }
   ],
   "source": [
    "p1 = Pokemon(\"pikachu\")\n",
    "p1.print()\n",
    "p2 = Pokemon(\"charizard\")\n",
    "#p2.print()\n"
   ]
  },
  {
   "cell_type": "code",
   "execution_count": 121,
   "metadata": {},
   "outputs": [
    {
     "data": {
      "text/plain": [
       "360"
      ]
     },
     "execution_count": 121,
     "metadata": {},
     "output_type": "execute_result"
    }
   ],
   "source": [
    "test1 = PokemonT(poke=p1,moves=['mega-kick', 'laser-focus', 'zap-cannon', 'uproar'])\n",
    "test2 = PokemonT(poke=p2)\n",
    "test2.hp"
   ]
  },
  {
   "cell_type": "code",
   "execution_count": 41,
   "metadata": {},
   "outputs": [
    {
     "data": {
      "text/plain": [
       "'electric'"
      ]
     },
     "execution_count": 41,
     "metadata": {},
     "output_type": "execute_result"
    }
   ],
   "source": [
    "test1.moves[2].type\n"
   ]
  },
  {
   "cell_type": "code",
   "execution_count": 98,
   "metadata": {},
   "outputs": [],
   "source": [
    "def attack(user:PokemonT,move:moveT, target:PokemonT):\n",
    "    if move.clss == \"special\": \n",
    "        Ataque = user.satk\n",
    "        Defensa = target.sdef\n",
    "    elif move.clss == \"physical\":\n",
    "        Ataque = user.atk\n",
    "        Defensa = target.defe\n",
    "    if move.type in user.types: STAB = 1.5\n",
    "    else: STAB = 1\n",
    "    if move.type in target.damages:\n",
    "        effect = target.damages[move.type]\n",
    "    else:\n",
    "        effect = 1\n",
    "\n",
    "    rnd = (random.randint(217,255)*100)/255\n",
    "    #damage = ((((((100 * 2 / 5) + 2) * move.power * Ataque / 50) / Defensa) * 1 + 2) * 1 * 1 * rnd / 100) * STAB * effect\n",
    "    damage = math.floor(((((((100 * 2 / 5) + 2) * move.power * Ataque / 50) / Defensa) + 2)  * rnd / 100) * STAB * effect)\n",
    "    print(damage)\n",
    "    #acc = (move.acc/100)*((user.pre/3)/(target.eva/3))\n",
    "    #print(acc)"
   ]
  },
  {
   "cell_type": "code",
   "execution_count": 107,
   "metadata": {},
   "outputs": [
    {
     "name": "stdout",
     "output_type": "stream",
     "text": [
      "178\n"
     ]
    }
   ],
   "source": [
    "attack(test1,test1.moves[2],test2)"
   ]
  },
  {
   "cell_type": "markdown",
   "metadata": {},
   "source": [
    "Daño (PS) = [{([{(Nv. * 2 / 5) + 2} * Poder * Ataque / 50] / Defensa) * 1 + 2} * CH * 1 * Rnd / 100] * STAB * Efec.Tipo#1 * Efec.Tipo#2 * 1\n",
    "\n",
    "Donde:\n",
    "\n",
    "Nv.=El Nivel del Pokémon usuario.\n",
    "Poder=Poder del Movimiento que el Pokémon usuario utiliza.\n",
    "Ataque=Ataque o Ataque Especial del Pokémon usuario; depende de la Categoría del Movimiento: Si es Físico se utiliza el Ataque, si es Especial se utiliza el Ataque Especial.\n",
    "Defensa=Defensa o Defensa Especial del Pokémon rival; depende de la Categoría del Movimiento: Si es Físico se utiliza la Defensa, si es Especial se utiliza la Defensa Especial.\n",
    "1°Mod.=Primer modificador de la fórmula, para ver como influye mire la sección 2.4.\n",
    "CH (Critical Hit) =Modificador de la fórmula equivalente a.....\n",
    "» 2 si el Movimiento es Golpe Crítico.\n",
    "» 1 para cualquier otro caso.\n",
    "2°Mod.= Segundo modificador de la fórmula, para ver como influye mire la sección 2.5.\n",
    "Rnd (Random)=Número entero de valor aleatorio que va desde 85 hasta 100. Rnd = (R * 100 / 255). Donde R es un número entero de valor aleatorio que va desde 217 hasta 255 con uniforme probabilidad de aparición.\n",
    "STAB (Same Type Attack Bonus)=Modificador de la fórmula equivalente a.....\n",
    "» 1.5 si el Tipo del Movimiento coincide con alguno de los Tipos del Pokémon usuario.\n",
    "» 1 para cualquier otro caso.\n",
    "Efec.Tipo#1 = Modificador de la fórmula equivalente a.....\n",
    "» 2 si el Movimiento es muy efectivo con respecto al 1° Tipo del Pokémon rival.\n",
    "» 0.5 si el Movimiento no es muy efectivo con respecto al 1° Tipo del Pokémon rival.\n",
    "» 0 si el Movimiento no afecta al 1° Tipo del Pokémon rival.\n",
    "» 1 para cualquier otro caso.\n",
    "Ver el cuadro de efectividades.\n",
    "Efec.Tipo#2=Modificador de la fórmula equivalente a.....\n",
    "» 2 si el Movimiento es muy efectivo con respecto al 2° Tipo del Pokémon rival.\n",
    "» 0.5 si el Movimiento no es muy efectivo con respecto al 2° Tipo del Pokémon rival\n",
    "» 0 si el Movimiento no afecta al 2° Tipo del Pokémon rival.\n",
    "» 1 si el rival solo tiene un Tipo o para cualquier otro caso.\n",
    "Ver el cuadro de efectividades.\n",
    "3°Mod.= Tercer modificador de la fórmula, para ver como influye mire la sección 2.6."
   ]
  }
 ],
 "metadata": {
  "kernelspec": {
   "display_name": "Python 3",
   "language": "python",
   "name": "python3"
  },
  "language_info": {
   "codemirror_mode": {
    "name": "ipython",
    "version": 3
   },
   "file_extension": ".py",
   "mimetype": "text/x-python",
   "name": "python",
   "nbconvert_exporter": "python",
   "pygments_lexer": "ipython3",
   "version": "3.11.9"
  }
 },
 "nbformat": 4,
 "nbformat_minor": 2
}
