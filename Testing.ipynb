{
 "cells": [
  {
   "cell_type": "code",
   "execution_count": 1,
   "metadata": {},
   "outputs": [],
   "source": [
    "import MySQLdb\n",
    "import random\n",
    "import math\n",
    "import matplotlib.pyplot as plt\n",
    "import matplotlib.cm as cm"
   ]
  },
  {
   "cell_type": "code",
   "execution_count": 2,
   "metadata": {},
   "outputs": [],
   "source": [
    "db = MySQLdb.connect(  # esto hace la conexion a la base de datos\n",
    "    host=\"localhost\",  # el puerto es 3308 porque es el puerto que\n",
    "    user=\"root\",  # le deje a mariaDB\n",
    "    password=\"deadzamxd\",\n",
    "    database=\"PokeSearch\",\n",
    "    port=3308,\n",
    ")\n",
    "c = db.cursor()"
   ]
  },
  {
   "cell_type": "code",
   "execution_count": 3,
   "metadata": {},
   "outputs": [],
   "source": [
    "TYPES = dict()\n",
    "c.execute(f\"select * from tipe;\")\n",
    "result = c.fetchall()\n",
    "for tipe in result:\n",
    "    TYPES[tipe[0]] = tipe[1]\n",
    "relations = dict()\n",
    "for t_id in TYPES:\n",
    "    if t_id not in relations:\n",
    "        relations[t_id] = dict()\n",
    "    c.execute(\n",
    "        f\"select relation,id_type_2 from relation_type where id_type_1={t_id} and relation like '%from' ;\"\n",
    "    )\n",
    "    temp = c.fetchall()\n",
    "    for rt in temp:\n",
    "        if rt[0] not in relations[t_id]:\n",
    "            relations[t_id][rt[0]] = []\n",
    "            relations[t_id][rt[0]].append(rt[1])\n",
    "        else:\n",
    "            relations[t_id][rt[0]].append(rt[1])\n"
   ]
  },
  {
   "cell_type": "code",
   "execution_count": 4,
   "metadata": {},
   "outputs": [],
   "source": [
    "def damages(T: list):\n",
    "    D = dict()\n",
    "    for t in T:\n",
    "        for rt in relations[t]:\n",
    "            for ti in relations[t][rt]:\n",
    "                if ti in D:\n",
    "                    if rt == \"double_damage_from\":\n",
    "                        D[ti] *= 2\n",
    "                    elif rt == \"half_damage_from\":\n",
    "                        D[ti] *= 0.5\n",
    "                    else:\n",
    "                        D[ti] *= 0\n",
    "                else:\n",
    "                    if rt == \"double_damage_from\":\n",
    "                        D[ti] = 2\n",
    "                    elif rt == \"half_damage_from\":\n",
    "                        D[ti] = 0.5\n",
    "                    else:\n",
    "                        D[ti] = 0\n",
    "    return D\n",
    "\n"
   ]
  },
  {
   "cell_type": "code",
   "execution_count": 5,
   "metadata": {},
   "outputs": [],
   "source": [
    "class Pokemon:\n",
    "    def __init__(self, name: str):\n",
    "        c.execute(\n",
    "            f\"select id,atk,satk,def,sdef,total_stat,name,hp,spe from pokemon where name='{name}';\"\n",
    "        )\n",
    "        data = c.fetchone()\n",
    "        self.id = data[0]\n",
    "        self.atk = data[1]\n",
    "        self.defe = data[3]\n",
    "        self.satk = data[2]\n",
    "        self.sdef = data[4]\n",
    "        self.total = data[5]\n",
    "        self.name = data[6]\n",
    "        self.hp = data[7]\n",
    "        self.spe = data[8]\n",
    "        c.execute(f\"select id_type from pok_typ where id_pokemon={data[0]};\")\n",
    "        T = c.fetchall()\n",
    "        self.types = []\n",
    "        for t in T:\n",
    "            self.types.append(t[0])\n",
    "        self.damages = damages(self.types)\n",
    "\n",
    "        self.moves = {\"physical\": dict(), \"status\": dict(), \"special\": dict()}\n",
    "        self.all = []\n",
    "        c.execute(\n",
    "            f\"select M.name,M.id_type,M.damage_class from move as M inner join pok_mov as PM on  PM.id_move=M.id and PM.id_pokemon={self.id};\"\n",
    "        )\n",
    "        M = c.fetchall()\n",
    "        for att in M:\n",
    "            if att[1] not in self.moves[att[2]]:\n",
    "                self.moves[att[2]][att[1]] = list()\n",
    "            self.moves[att[2]][att[1]].append(att[0])\n",
    "            self.all.append(att[0])\n",
    "\n",
    "    def print(self):\n",
    "        print(f\"\"\"id = {self.id}\\natk = {self.atk}\\ndefe = {self.defe}\\nsatk = {self.satk}\\nsdef = {self.sdef}\\ntotal = {self.total}\\nname = {self.name}\"\"\")\n",
    "        for d in self.damages:\n",
    "            print(TYPES[d],\":\",self.damages[d])\n",
    "        for M in self.moves:\n",
    "            print(M)\n",
    "            for m in self.moves[M]:\n",
    "                print(f\"{TYPES[m]}:{self.moves[M][m]}\")\n"
   ]
  },
  {
   "cell_type": "code",
   "execution_count": 34,
   "metadata": {},
   "outputs": [],
   "source": [
    "class PokemonT:\n",
    "    def __init__(self,poke: Pokemon,moves =[],mode=\"normal\",EV=[85,85,85,85,85,85],IV=[31,31,31,31,31,31]):\n",
    "        if sum(EV)>510 or False in [ev<253 for ev in EV]:\n",
    "            print(\"EV mal distribuidos... Distribuyendolos\")\n",
    "            EV=[85,85,85,85,85,85]\n",
    "\n",
    "        self.hp = math.floor(110+((2*poke.hp)+IV[0]+(EV[0]/4)))\n",
    "        self.eva = 3\n",
    "        self.pre = 3\n",
    "        self.atk = math.floor((2*poke.atk)+IV[1]+(EV[1]/4)+5)\n",
    "        self.defe = math.floor((2*poke.defe)+IV[2]+(EV[2]/4)+5)\n",
    "        self.satk = math.floor((2*poke.satk)+IV[3]+(EV[3]/4)+5)\n",
    "        self.sdef = math.floor((2*poke.sdef)+IV[4]+(EV[4]/4)+5)\n",
    "        self.spe = math.floor((2*poke.spe)+IV[5]+(EV[5]/4)+5)\n",
    "        self.name = poke.name\n",
    "        self.types = [TYPES[t] for t in poke.types]\n",
    "        self.damages = {TYPES[k]:v for (k,v) in poke.damages.items() } \n",
    "\n",
    "        for i in range(len(moves)):\n",
    "            if moves[i] not in poke.all:\n",
    "                moves[i] = random.choice(poke.all)\n",
    "        moves.extend([random.choice(poke.all) for _ in range(4-len(moves))])\n",
    "\n",
    "        if mode==\"test\":\n",
    "            moves = []\n",
    "            moves.extend([f\"a{c}_{poke.types[0]:02}\" for c in [\"s\",\"p\"]])\n",
    "            moves.extend([f\"a{c}_19\" for c in [\"s\",\"p\"]])\n",
    "\n",
    "        self.moves = [moveT(m) for m in moves]\n",
    "        "
   ]
  },
  {
   "cell_type": "code",
   "execution_count": 7,
   "metadata": {},
   "outputs": [],
   "source": [
    "#c.execute(f'select * from pokemon where name=\"charizard\";')\n",
    "#data = c.fetchall()\n",
    "#data"
   ]
  },
  {
   "cell_type": "code",
   "execution_count": 8,
   "metadata": {},
   "outputs": [],
   "source": [
    "class moveT:\n",
    "    def __init__(self,name:str):\n",
    "        c.execute(\n",
    "            f\"select * from move where name='{name}';\"\n",
    "        )\n",
    "        data = c.fetchone()\n",
    "        self.id = data[0]\n",
    "        self.name = data[1]\n",
    "        self.type = TYPES[data[2]]\n",
    "        self.clss = data[3]\n",
    "        self.power = data[4]\n",
    "        self.pp = data[5]\n",
    "        self.acc = data[6]\n",
    "        self.prio = data[7]\n",
    "        self.ail = data[8]\n",
    "        self.ail_c = data[9]\n",
    "        self.eff = data[10]\n",
    "\n",
    "    def print(self):\n",
    "        print(f\"id = {self.id}\\nname = {self.name}\\ntype = {self.type}\\nclss = {self.clss}\\npower = {self.power}\\npp = {self.pp}\\nacc = {self.acc}\\nprio = {self.prio}\\nail = {self.ail}\\nail_c = {self.ail_c}\\neffect = {self.eff}\")"
   ]
  },
  {
   "cell_type": "code",
   "execution_count": 9,
   "metadata": {},
   "outputs": [
    {
     "data": {
      "text/plain": [
       "672"
      ]
     },
     "execution_count": 9,
     "metadata": {},
     "output_type": "execute_result"
    }
   ],
   "source": [
    "#m = moveT(\"as_10\")\n",
    "#m.print()\n",
    "\n",
    "dummy = Pokemon(\"dummy\")\n",
    "Dummy = PokemonT(poke=dummy)\n",
    "Dummy.hp"
   ]
  },
  {
   "cell_type": "code",
   "execution_count": 10,
   "metadata": {},
   "outputs": [],
   "source": [
    "#p1 = Pokemon(\"pikachu\")\n",
    "#print(len(p1.all))\n",
    "#p2 = Pokemon(\"geodude\")\n",
    "#p2.print()\n",
    "\n",
    "\n",
    "#p1 = Pokemon(\"charizard\")\n",
    "#P1 = PokemonT(poke=p1,mode=\"test\",EV=[6,252,0,252,0,0])\n",
    "#print(f\"atk: {P1.atk}\\nsatk: {P1.satk}\")"
   ]
  },
  {
   "cell_type": "code",
   "execution_count": 11,
   "metadata": {},
   "outputs": [
    {
     "name": "stdout",
     "output_type": "stream",
     "text": [
      "as_10\n",
      "ap_10\n",
      "as_14\n",
      "ap_14\n"
     ]
    }
   ],
   "source": [
    "test = PokemonT(Pokemon(\"victini\"),mode=\"test\")\n",
    "for m in test.moves:\n",
    "    print(m.name)"
   ]
  },
  {
   "cell_type": "code",
   "execution_count": 12,
   "metadata": {},
   "outputs": [],
   "source": [
    "def attack(user:PokemonT,move:moveT, target:PokemonT,mode='normal'):\n",
    "    if move.clss == \"special\": \n",
    "        Ataque = user.satk\n",
    "        Defensa = target.sdef\n",
    "    elif move.clss == \"physical\":\n",
    "        Ataque = user.atk\n",
    "        Defensa = target.defe\n",
    "    if move.type in user.types: STAB = 1.5\n",
    "    else: STAB = 1\n",
    "    if move.type in target.damages:\n",
    "        effect = target.damages[move.type]\n",
    "    else:\n",
    "        effect = 1\n",
    "    rnd = 100\n",
    "    #if mode=='test': rnd=100\n",
    "    #else: rnd = (random.randint(217,255)*100)/255\n",
    "    #damage = ((((((100 * 2 / 5) + 2) * move.power * Ataque / 50) / Defensa) * 1 + 2) * 1 * 1 * rnd / 100) * STAB * effect\n",
    "    damage = math.floor(((((((100 * 2 / 5) + 2) * move.power * Ataque / 50) / Defensa) + 2)* 1 * rnd / 100) * STAB * effect)\n",
    "    #print(damage)\n",
    "    target.hp -= damage\n",
    "    return target,damage\n",
    "    #acc = (move.acc/100)*((user.pre/3)/(target.eva/3))\n",
    "    #print(acc)"
   ]
  },
  {
   "cell_type": "code",
   "execution_count": 49,
   "metadata": {},
   "outputs": [],
   "source": [
    "def parametrizarATK(pokemon:Pokemon,Dummy:PokemonT):\n",
    "    EVs = [[0,0,0,0,0,0],[0,85,0,85,0,0],[0,252,0,252,0,0]]\n",
    "    X = []\n",
    "    Y = []\n",
    "    L = []\n",
    "    rest = Dummy.hp\n",
    "    for evs in EVs:\n",
    "        P1 = PokemonT(poke=pokemon,mode=\"test\",EV=evs)\n",
    "        X.append(f\"atk: {P1.atk}\\n(EV={evs[1]})\\n{P1.moves[1].name}\")\n",
    "        c = 0\n",
    "        while Dummy.hp>0:\n",
    "            Dummy,damage = attack(P1,P1.moves[1],Dummy)\n",
    "            c+=1\n",
    "        Y.append(c)\n",
    "        Dummy.hp = rest\n",
    "        L.append(\"dpa: \"+str(damage))\n",
    "\n",
    "        X.append(f\"satk: {P1.satk}\\n(EV={evs[3]})\\n{P1.moves[0].name}\")\n",
    "        c = 0\n",
    "        while Dummy.hp>0:\n",
    "            Dummy,damage = attack(P1,P1.moves[0],Dummy)\n",
    "            c+=1\n",
    "        Y.append(c)\n",
    "        Dummy.hp = rest\n",
    "        L.append(\"dpa: \"+str(damage))\n",
    "\n",
    "        P1 = PokemonT(poke=pokemon,mode=\"test\",EV=evs)\n",
    "        X.append(f\"atk: {P1.atk}\\n(EV={evs[3]})\\n{P1.moves[3].name}\")\n",
    "        c = 0\n",
    "        while Dummy.hp>0:\n",
    "            Dummy,damage = attack(P1,P1.moves[3],Dummy)\n",
    "            c+=1\n",
    "        Y.append(c)\n",
    "        Dummy.hp = rest\n",
    "        L.append(\"dpa: \"+str(damage))\n",
    "\n",
    "        X.append(f\"satk: {P1.satk}\\n(EV={evs[2]})\\n{P1.moves[2].name}\")\n",
    "        c = 0\n",
    "        while Dummy.hp>0:\n",
    "            Dummy,damage = attack(P1,P1.moves[2],Dummy)\n",
    "            c+=1\n",
    "        Y.append(c)\n",
    "        Dummy.hp = rest\n",
    "        L.append(\"dpa: \"+str(damage))\n",
    "\n",
    "    plt.figure(figsize=(12, 6))\n",
    "\n",
    "    colors = cm.get_cmap('Pastel1', len(X))\n",
    "\n",
    "    bars = plt.bar(X,Y,color=[colors(i) for i in range(len(X))])\n",
    "    for bar, leyenda in zip(bars, L):\n",
    "        bar.set_label(leyenda)\n",
    "        yval = bar.get_height()  # Obtiene la altura de la barra (el valor en Y)\n",
    "        plt.text(bar.get_x() + bar.get_width()/2, yval, f'{yval}', ha='center', va='bottom')\n",
    "\n",
    "    plt.title(f'{pokemon.name} vs {Dummy.name}')\n",
    "    plt.xlabel('Parametros')\n",
    "    plt.ylabel('Ataques necesitados')\n",
    "    plt.legend()\n",
    "    plt.show()"
   ]
  },
  {
   "cell_type": "code",
   "execution_count": 50,
   "metadata": {},
   "outputs": [
    {
     "name": "stderr",
     "output_type": "stream",
     "text": [
      "C:\\Users\\EQUIPO\\AppData\\Local\\Temp\\ipykernel_14404\\2343573931.py:48: MatplotlibDeprecationWarning: The get_cmap function was deprecated in Matplotlib 3.7 and will be removed in 3.11. Use ``matplotlib.colormaps[name]`` or ``matplotlib.colormaps.get_cmap()`` or ``pyplot.get_cmap()`` instead.\n",
      "  colors = cm.get_cmap('Pastel1', len(X))\n"
     ]
    },
    {
     "data": {
      "image/png": "[encoded data removed]",
      "text/plain": [
       "<Figure size 1200x600 with 1 Axes>"
      ]
     },
     "metadata": {},
     "output_type": "display_data"
    }
   ],
   "source": [
    "p1 = Pokemon(\"pikachu\")\n",
    "parametrizarATK(p1,Dummy=Dummy)"
   ]
  },
  {
   "cell_type": "code",
   "execution_count": 15,
   "metadata": {},
   "outputs": [
    {
     "data": {
      "text/plain": [
       "' sp = [f\\'insert into move values(191{i+1:02},\"as_{i+1:02}\",{i+1},\"special\",60,15,100,0,NULL,NULL,\"test above {TYPES[i+1]} attack special\");\\' for i in range(19)]\\nsp.extend([f\\'insert into move values(190{i+1:02},\"ap_{i+1:02}\",{i+1},\"physical\",60,15,100,0,NULL,NULL,\"test above {TYPES[i+1]} attack special\");\\' for i in range(19)])\\nfor q in sp:\\n    print(q) '"
      ]
     },
     "execution_count": 15,
     "metadata": {},
     "output_type": "execute_result"
    }
   ],
   "source": [
    "\"\"\" sp = [f'insert into move values(191{i+1:02},\"as_{i+1:02}\",{i+1},\"special\",60,15,100,0,NULL,NULL,\"test above {TYPES[i+1]} attack special\");' for i in range(19)]\n",
    "sp.extend([f'insert into move values(190{i+1:02},\"ap_{i+1:02}\",{i+1},\"physical\",60,15,100,0,NULL,NULL,\"test above {TYPES[i+1]} attack special\");' for i in range(19)])\n",
    "for q in sp:\n",
    "    print(q) \"\"\""
   ]
  },
  {
   "cell_type": "markdown",
   "metadata": {},
   "source": [
    "Daño (PS) = [{([{(Nv. * 2 / 5) + 2} * Poder * Ataque / 50] / Defensa) * 1 + 2} * CH * 1 * Rnd / 100] * STAB * Efec.Tipo#1 * Efec.Tipo#2 * 1\n",
    "\n",
    "Donde:\n",
    "\n",
    "Nv.=El Nivel del Pokémon usuario.\n",
    "Poder=Poder del Movimiento que el Pokémon usuario utiliza.\n",
    "Ataque=Ataque o Ataque Especial del Pokémon usuario; depende de la Categoría del Movimiento: Si es Físico se utiliza el Ataque, si es Especial se utiliza el Ataque Especial.\n",
    "Defensa=Defensa o Defensa Especial del Pokémon rival; depende de la Categoría del Movimiento: Si es Físico se utiliza la Defensa, si es Especial se utiliza la Defensa Especial.\n",
    "CH (Critical Hit) =Modificador de la fórmula equivalente a.....\n",
    "» 2 si el Movimiento es Golpe Crítico.\n",
    "» 1 para cualquier otro caso.\n",
    "Rnd (Random)=Número entero de valor aleatorio que va desde 85 hasta 100. Rnd = (R * 100 / 255). Donde R es un número entero de valor aleatorio que va desde 217 hasta 255 con uniforme probabilidad de aparición.\n",
    "STAB (Same Type Attack Bonus)=Modificador de la fórmula equivalente a.....\n",
    "» 1.5 si el Tipo del Movimiento coincide con alguno de los Tipos del Pokémon usuario.\n",
    "» 1 para cualquier otro caso.\n",
    "Efec.Tipo#1 = Modificador de la fórmula equivalente a.....\n",
    "» 2 si el Movimiento es muy efectivo con respecto al 1° Tipo del Pokémon rival.\n",
    "» 0.5 si el Movimiento no es muy efectivo con respecto al 1° Tipo del Pokémon rival.\n",
    "» 0 si el Movimiento no afecta al 1° Tipo del Pokémon rival.\n",
    "» 1 para cualquier otro caso.\n",
    "Efec.Tipo#2=Modificador de la fórmula equivalente a.....\n",
    "» 2 si el Movimiento es muy efectivo con respecto al 2° Tipo del Pokémon rival.\n",
    "» 0.5 si el Movimiento no es muy efectivo con respecto al 2° Tipo del Pokémon rival\n",
    "» 0 si el Movimiento no afecta al 2° Tipo del Pokémon rival.\n",
    "» 1 si el rival solo tiene un Tipo o para cualquier otro caso."
   ]
  }
 ],
 "metadata": {
  "kernelspec": {
   "display_name": "Python 3",
   "language": "python",
   "name": "python3"
  },
  "language_info": {
   "codemirror_mode": {
    "name": "ipython",
    "version": 3
   },
   "file_extension": ".py",
   "mimetype": "text/x-python",
   "name": "python",
   "nbconvert_exporter": "python",
   "pygments_lexer": "ipython3",
   "version": "3.11.9"
  }
 },
 "nbformat": 4,
 "nbformat_minor": 2
}
